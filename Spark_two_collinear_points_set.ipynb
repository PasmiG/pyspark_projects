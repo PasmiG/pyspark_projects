{
 "cells": [
  {
   "cell_type": "markdown",
   "metadata": {},
   "source": [
    "# Find collinear points with pyspark"
   ]
  },
  {
   "cell_type": "markdown",
   "metadata": {},
   "source": [
    "* Collinearity of a set of points is the property of their lying on a single line. A set of points with this property is said to be collinear. \n",
    "* To determine whether a set of points all lie on the same line we need a standard way to define (or parametrize) a line.\n",
    "\n",
    "#### We will find collinear points by:\n",
    "\n",
    "* List all pairs of points. We can do that efficiently in spark by computing cartesian product of the list of points with itself. \n",
    "* Remove the pairs in which the same point appears twice such as  ((2,0),(2,0)).\n",
    "* For each pair of points, find the parameterization  (𝑎,𝑏)  of the line connecting them as described above.\n",
    "* Group the pairs according to their parameters. Clearly, if two pairs have the same  (𝑎,𝑏)  values, all points in the two pairs lie on the same line.\n",
    "* Eliminate the groups that contain only one pair (any pair of points defines a line).\n",
    "* In each of the remaining groups, unpack the point-pairs to identify the individual points.\n",
    "* Output the sets of 3 or more colinear points."
   ]
  },
  {
   "cell_type": "markdown",
   "metadata": {},
   "source": [
    "### Initialize spark context using 4 local cores as workers"
   ]
  },
  {
   "cell_type": "code",
   "execution_count": 604,
   "metadata": {},
   "outputs": [],
   "source": [
    "from pyspark import SparkContext, SparkConf\n",
    "\n",
    "#We can create a SparkConf() object and use it to initialize the spark context\n",
    "conf = SparkConf().setAppName(\"Collinear Points\").setMaster(\"local[4]\") \n",
    "sc = SparkContext(conf=conf)    \n",
    "\n",
    "from pyspark.rdd import RDD"
   ]
  },
  {
   "cell_type": "code",
   "execution_count": 605,
   "metadata": {},
   "outputs": [],
   "source": [
    "def format_result(x):\n",
    "    x[1].append(x[0][0])\n",
    "    return tuple(x[1])"
   ]
  },
  {
   "cell_type": "code",
   "execution_count": 606,
   "metadata": {},
   "outputs": [],
   "source": [
    "def to_sorted_points(x):\n",
    "    \"\"\"\n",
    "    Sorts and returns a tuple of points for further processing.\n",
    "    \"\"\"\n",
    "    return tuple(sorted(x))"
   ]
  },
  {
   "cell_type": "code",
   "execution_count": 603,
   "metadata": {},
   "outputs": [],
   "source": [
    "#sc.stop()"
   ]
  },
  {
   "cell_type": "markdown",
   "metadata": {},
   "source": [
    "### Format to tuple"
   ]
  },
  {
   "cell_type": "code",
   "execution_count": 607,
   "metadata": {},
   "outputs": [],
   "source": [
    "## use this function to change into tuple\n",
    "\n",
    "def to_tuple(x): \n",
    "    \n",
    "    return(tuple(map(int, x.split(' '))))\n"
   ]
  },
  {
   "cell_type": "code",
   "execution_count": 608,
   "metadata": {},
   "outputs": [
    {
     "data": {
      "text/plain": [
       "(1,)"
      ]
     },
     "execution_count": 608,
     "metadata": {},
     "output_type": "execute_result"
    }
   ],
   "source": [
    "# extra cell to check to_tuple \n",
    "my_list = ('1 1')[0]\n",
    "to_tuple(my_list)\n"
   ]
  },
  {
   "cell_type": "markdown",
   "metadata": {},
   "source": [
    "### Remove duplicate tuple "
   ]
  },
  {
   "cell_type": "code",
   "execution_count": 612,
   "metadata": {},
   "outputs": [],
   "source": [
    "\n",
    "def del_duplicates(x):\n",
    "    \"\"\" \n",
    "    Will use this function to delete duplicate tuple from the tuple list\n",
    "    \"\"\"\n",
    "    \n",
    "         \n",
    "    return [t for t in (set(tuple(i) for i in x))] \n",
    "          \n",
    "        "
   ]
  },
  {
   "cell_type": "code",
   "execution_count": 613,
   "metadata": {},
   "outputs": [
    {
     "name": "stdout",
     "output_type": "stream",
     "text": [
      "True\n"
     ]
    }
   ],
   "source": [
    "lst = [(1, 2), (5, 7), (3, 6), (1, 2)]\n",
    "print(non_duplicates(lst))"
   ]
  },
  {
   "cell_type": "code",
   "execution_count": 614,
   "metadata": {},
   "outputs": [],
   "source": [
    "def non_duplicates(x):\n",
    "    \"\"\" \n",
    "    Use this function inside the get_cartesian() function to 'filter' out pairs with duplicate points\n",
    "    \"\"\"\n",
    " \n",
    "    mapping = {}\n",
    "    for i in range(len(x)):\n",
    "        if x[i] in mapping:\n",
    "            return False\n",
    "        mapping[x[i]] = True\n",
    "    return True\n",
    "      "
   ]
  },
  {
   "cell_type": "code",
   "execution_count": 615,
   "metadata": {},
   "outputs": [
    {
     "data": {
      "text/plain": [
       "False"
      ]
     },
     "execution_count": 615,
     "metadata": {},
     "output_type": "execute_result"
    }
   ],
   "source": [
    "# extra cell to check non_duplicates\n",
    "\n",
    "my_input = ((0,0),(1,2))\n",
    "non_duplicates(my_input)"
   ]
  },
  {
   "cell_type": "markdown",
   "metadata": {},
   "source": [
    "### Get cartesian product"
   ]
  },
  {
   "cell_type": "code",
   "execution_count": 619,
   "metadata": {},
   "outputs": [],
   "source": [
    "## use this function to get cartesian product.\n",
    "\n",
    "def get_cartesian(rdd):\n",
    "       \n",
    "    rdd  = rdd.cartesian(rdd).filter(lambda x: x[0] != x[1])\n",
    "    \n",
    "    return rdd\n",
    "    "
   ]
  },
  {
   "cell_type": "markdown",
   "metadata": {},
   "source": [
    "### Get the slope"
   ]
  },
  {
   "cell_type": "code",
   "execution_count": 622,
   "metadata": {},
   "outputs": [],
   "source": [
    "## Use this function to get the slope\n",
    "\n",
    "def find_slope(x):\n",
    "    \n",
    "  \n",
    "    #return (x[0][1]-x[1][1])/(x[1][1]-x[1][1])\n",
    "\n",
    "    \n",
    "    p1 = x[0]\n",
    "    p2 = x[1]\n",
    "    if p1[0] == p2[0] :\n",
    "        slope = \"inf\"\n",
    "    else:\n",
    "       slope = (p2[1] - p1[1]) / (p2[0] - p1[0])\n",
    "    t1 = tuple([x[0], slope])\n",
    "    t2 = tuple([t1, x[1]])\n",
    "    return t2\n",
    "\n",
    "   "
   ]
  },
  {
   "cell_type": "code",
   "execution_count": 623,
   "metadata": {},
   "outputs": [
    {
     "name": "stdout",
     "output_type": "stream",
     "text": [
      "(((1, 2), 1.0), (3, 4))\n"
     ]
    }
   ],
   "source": [
    "# extra cell to check find_slope function\n",
    "x = ((1,2),(3,4))\n",
    "print(find_slope(x))"
   ]
  },
  {
   "cell_type": "markdown",
   "metadata": {},
   "source": [
    "### Get the collinear points"
   ]
  },
  {
   "cell_type": "code",
   "execution_count": 679,
   "metadata": {},
   "outputs": [],
   "source": [
    "def find_collinear(rdd):\n",
    "   \n",
    "    rdd1 = rdd.map(find_slope) \n",
    "    rdd2 = rdd1.groupByKey().mapValues(list) \n",
    "    rdd = rdd2.map(lambda x: format_result(x)).filter(lambda x: len(x) > 2) \n",
    "\n",
    "    return rdd\n",
    "    \n",
    "   "
   ]
  },
  {
   "cell_type": "markdown",
   "metadata": {},
   "source": [
    "### Build  collinear sets "
   ]
  },
  {
   "cell_type": "code",
   "execution_count": 662,
   "metadata": {},
   "outputs": [],
   "source": [
    "def build_collinear_set(rdd):\n",
    "    \n",
    "   \n",
    "    rdd = rdd.map(lambda x: to_tuple(x))\n",
    "      \n",
    "    rdd = get_cartesian(rdd)\n",
    "    \n",
    "    rdd = find_collinear(rdd)\n",
    "            \n",
    "    \n",
    "    return rdd\n",
    "\n",
    "    "
   ]
  },
  {
   "cell_type": "markdown",
   "metadata": {},
   "source": [
    "### The main Process"
   ]
  },
  {
   "cell_type": "code",
   "execution_count": 665,
   "metadata": {},
   "outputs": [],
   "source": [
    "def process(filename):\n",
    "    \"\"\"\n",
    "    This is the process function used for finding collinear points using inputs from different files\n",
    "      \n",
    "    \"\"\"\n",
    "    # Load the data file into an RDD\n",
    "    rdd = sc.textFile(filename)    #Input: Name of the test file\n",
    "    \n",
    "    rdd = build_collinear_set(rdd) # Output: Set of collinear points\n",
    "      \n",
    "    return rdd"
   ]
  },
  {
   "cell_type": "code",
   "execution_count": null,
   "metadata": {},
   "outputs": [],
   "source": [
    "# sc.stop()"
   ]
  }
 ],
 "metadata": {
  "kernelspec": {
   "display_name": "Python 3",
   "language": "python",
   "name": "python3"
  },
  "language_info": {
   "codemirror_mode": {
    "name": "ipython",
    "version": 3
   },
   "file_extension": ".py",
   "mimetype": "text/x-python",
   "name": "python",
   "nbconvert_exporter": "python",
   "pygments_lexer": "ipython3",
   "version": "3.7.1"
  }
 },
 "nbformat": 4,
 "nbformat_minor": 2
}
